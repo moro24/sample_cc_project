{
 "cells": [
  {
   "cell_type": "markdown",
   "id": "4d934a6f-3883-418c-ac35-597c8c931af0",
   "metadata": {},
   "source": [
    "## Importing Libraries "
   ]
  },
  {
   "cell_type": "code",
   "execution_count": 1,
   "id": "f2004f45-0c75-4e3b-9217-f9829950e899",
   "metadata": {},
   "outputs": [],
   "source": [
    "## importing libraries for loading and preprocessing data \n",
    "import numpy as np\n",
    "import pandas as pd"
   ]
  },
  {
   "cell_type": "markdown",
   "id": "99080a75-e319-4c21-ae7c-b7ac2104cde2",
   "metadata": {},
   "source": [
    "## Reading/Loading And Creating a Copy of Dataset"
   ]
  },
  {
   "cell_type": "code",
   "execution_count": 2,
   "id": "f9b3c58e-7e79-4af0-948a-e21a64b52d75",
   "metadata": {},
   "outputs": [],
   "source": [
    "data = pd.read_csv(\"Datasets/Iris_data_sample.csv\")\n"
   ]
  },
  {
   "cell_type": "code",
   "execution_count": 3,
   "id": "0911aa23-b05d-46db-bed7-80f0abb583eb",
   "metadata": {},
   "outputs": [],
   "source": [
    "## creating a deep copy of the dataset \n",
    "df1 = data.copy(deep=True)"
   ]
  },
  {
   "cell_type": "code",
   "execution_count": 4,
   "id": "9a52809f-4f49-44b5-9866-f070c5048cde",
   "metadata": {},
   "outputs": [
    {
     "data": {
      "text/html": [
       "<div>\n",
       "<style scoped>\n",
       "    .dataframe tbody tr th:only-of-type {\n",
       "        vertical-align: middle;\n",
       "    }\n",
       "\n",
       "    .dataframe tbody tr th {\n",
       "        vertical-align: top;\n",
       "    }\n",
       "\n",
       "    .dataframe thead th {\n",
       "        text-align: right;\n",
       "    }\n",
       "</style>\n",
       "<table border=\"1\" class=\"dataframe\">\n",
       "  <thead>\n",
       "    <tr style=\"text-align: right;\">\n",
       "      <th></th>\n",
       "      <th>Unnamed: 0</th>\n",
       "      <th>SepalLengthCm</th>\n",
       "      <th>SepalWidthCm</th>\n",
       "      <th>PetalLengthCm</th>\n",
       "      <th>PetalWidthCm</th>\n",
       "      <th>Species</th>\n",
       "    </tr>\n",
       "  </thead>\n",
       "  <tbody>\n",
       "    <tr>\n",
       "      <th>0</th>\n",
       "      <td>1</td>\n",
       "      <td>5.1</td>\n",
       "      <td>3.5</td>\n",
       "      <td>1.4</td>\n",
       "      <td>0.2</td>\n",
       "      <td>Iris-setosa</td>\n",
       "    </tr>\n",
       "    <tr>\n",
       "      <th>1</th>\n",
       "      <td>2</td>\n",
       "      <td>4.9</td>\n",
       "      <td>NaN</td>\n",
       "      <td>1.4</td>\n",
       "      <td>0.2</td>\n",
       "      <td>NaN</td>\n",
       "    </tr>\n",
       "    <tr>\n",
       "      <th>2</th>\n",
       "      <td>3</td>\n",
       "      <td>4.7</td>\n",
       "      <td>3.2</td>\n",
       "      <td>1.3</td>\n",
       "      <td>0.2</td>\n",
       "      <td>Iris-setosa</td>\n",
       "    </tr>\n",
       "    <tr>\n",
       "      <th>3</th>\n",
       "      <td>4</td>\n",
       "      <td>??</td>\n",
       "      <td>3.1</td>\n",
       "      <td>1.5</td>\n",
       "      <td>0.2</td>\n",
       "      <td>Iris-setosa</td>\n",
       "    </tr>\n",
       "    <tr>\n",
       "      <th>4</th>\n",
       "      <td>5</td>\n",
       "      <td>5</td>\n",
       "      <td>3.6</td>\n",
       "      <td>###</td>\n",
       "      <td>0.2</td>\n",
       "      <td>Iris-setosa</td>\n",
       "    </tr>\n",
       "  </tbody>\n",
       "</table>\n",
       "</div>"
      ],
      "text/plain": [
       "   Unnamed: 0 SepalLengthCm  SepalWidthCm PetalLengthCm  PetalWidthCm  \\\n",
       "0           1           5.1           3.5           1.4           0.2   \n",
       "1           2           4.9           NaN           1.4           0.2   \n",
       "2           3           4.7           3.2           1.3           0.2   \n",
       "3           4            ??           3.1           1.5           0.2   \n",
       "4           5             5           3.6           ###           0.2   \n",
       "\n",
       "       Species  \n",
       "0  Iris-setosa  \n",
       "1          NaN  \n",
       "2  Iris-setosa  \n",
       "3  Iris-setosa  \n",
       "4  Iris-setosa  "
      ]
     },
     "execution_count": 4,
     "metadata": {},
     "output_type": "execute_result"
    }
   ],
   "source": [
    "df1.head()"
   ]
  },
  {
   "cell_type": "code",
   "execution_count": 5,
   "id": "a607a3b4-ca30-4b05-920e-cc112244f99a",
   "metadata": {},
   "outputs": [],
   "source": [
    "data_2 = pd.read_csv(\"Datasets/Toyota.csv\")"
   ]
  },
  {
   "cell_type": "code",
   "execution_count": 6,
   "id": "138fd66f-83d8-4c3c-bc85-1ffdafc525bd",
   "metadata": {},
   "outputs": [],
   "source": [
    "## creating a deep copy \n",
    "df2 = data_2.copy()"
   ]
  },
  {
   "cell_type": "code",
   "execution_count": 7,
   "id": "df9ab1a4-c4ae-4b89-bc28-bba8854fbefc",
   "metadata": {},
   "outputs": [],
   "source": [
    "data3 = pd.read_table(\"Datasets/Iris_data_sample.txt\", delimiter=\" \")"
   ]
  },
  {
   "cell_type": "code",
   "execution_count": 8,
   "id": "be8cfc49-7ba3-427c-9acb-fe817d9079ab",
   "metadata": {},
   "outputs": [],
   "source": [
    "# data3"
   ]
  },
  {
   "cell_type": "markdown",
   "id": "8c52326a-ebff-45a6-883b-5b35130e9b1e",
   "metadata": {},
   "source": [
    "## Understanding Dataset"
   ]
  },
  {
   "cell_type": "code",
   "execution_count": 9,
   "id": "2bbaab6a-baf9-4f00-b169-6868af0b6f91",
   "metadata": {},
   "outputs": [
    {
     "data": {
      "text/html": [
       "<div>\n",
       "<style scoped>\n",
       "    .dataframe tbody tr th:only-of-type {\n",
       "        vertical-align: middle;\n",
       "    }\n",
       "\n",
       "    .dataframe tbody tr th {\n",
       "        vertical-align: top;\n",
       "    }\n",
       "\n",
       "    .dataframe thead th {\n",
       "        text-align: right;\n",
       "    }\n",
       "</style>\n",
       "<table border=\"1\" class=\"dataframe\">\n",
       "  <thead>\n",
       "    <tr style=\"text-align: right;\">\n",
       "      <th></th>\n",
       "      <th>Unnamed: 0</th>\n",
       "      <th>SepalLengthCm</th>\n",
       "      <th>SepalWidthCm</th>\n",
       "      <th>PetalLengthCm</th>\n",
       "      <th>PetalWidthCm</th>\n",
       "      <th>Species</th>\n",
       "    </tr>\n",
       "  </thead>\n",
       "  <tbody>\n",
       "    <tr>\n",
       "      <th>1</th>\n",
       "      <td>1</td>\n",
       "      <td>5.1</td>\n",
       "      <td>3.5</td>\n",
       "      <td>1.4</td>\n",
       "      <td>0.2</td>\n",
       "      <td>Iris-setosa</td>\n",
       "    </tr>\n",
       "    <tr>\n",
       "      <th>2</th>\n",
       "      <td>2</td>\n",
       "      <td>4.9</td>\n",
       "      <td>3.0</td>\n",
       "      <td>1.4</td>\n",
       "      <td>0.2</td>\n",
       "      <td>Iris-setosa</td>\n",
       "    </tr>\n",
       "    <tr>\n",
       "      <th>3</th>\n",
       "      <td>3</td>\n",
       "      <td>4.7</td>\n",
       "      <td>3.2</td>\n",
       "      <td>1.3</td>\n",
       "      <td>0.2</td>\n",
       "      <td>Iris-setosa</td>\n",
       "    </tr>\n",
       "    <tr>\n",
       "      <th>4</th>\n",
       "      <td>4</td>\n",
       "      <td>4.6</td>\n",
       "      <td>3.1</td>\n",
       "      <td>1.5</td>\n",
       "      <td>0.2</td>\n",
       "      <td>Iris-setosa</td>\n",
       "    </tr>\n",
       "    <tr>\n",
       "      <th>5</th>\n",
       "      <td>5</td>\n",
       "      <td>5.0</td>\n",
       "      <td>3.6</td>\n",
       "      <td>1.4</td>\n",
       "      <td>0.2</td>\n",
       "      <td>Iris-setosa</td>\n",
       "    </tr>\n",
       "  </tbody>\n",
       "</table>\n",
       "</div>"
      ],
      "text/plain": [
       "   Unnamed: 0  SepalLengthCm  SepalWidthCm  PetalLengthCm  PetalWidthCm  \\\n",
       "1           1            5.1           3.5            1.4           0.2   \n",
       "2           2            4.9           3.0            1.4           0.2   \n",
       "3           3            4.7           3.2            1.3           0.2   \n",
       "4           4            4.6           3.1            1.5           0.2   \n",
       "5           5            5.0           3.6            1.4           0.2   \n",
       "\n",
       "       Species  \n",
       "1  Iris-setosa  \n",
       "2  Iris-setosa  \n",
       "3  Iris-setosa  \n",
       "4  Iris-setosa  \n",
       "5  Iris-setosa  "
      ]
     },
     "execution_count": 9,
     "metadata": {},
     "output_type": "execute_result"
    }
   ],
   "source": [
    "## display first five rows\n",
    "data3.head()"
   ]
  },
  {
   "cell_type": "code",
   "execution_count": 10,
   "id": "c1d7b180-121a-4770-9f91-ae48e747212d",
   "metadata": {},
   "outputs": [
    {
     "data": {
      "text/html": [
       "<div>\n",
       "<style scoped>\n",
       "    .dataframe tbody tr th:only-of-type {\n",
       "        vertical-align: middle;\n",
       "    }\n",
       "\n",
       "    .dataframe tbody tr th {\n",
       "        vertical-align: top;\n",
       "    }\n",
       "\n",
       "    .dataframe thead th {\n",
       "        text-align: right;\n",
       "    }\n",
       "</style>\n",
       "<table border=\"1\" class=\"dataframe\">\n",
       "  <thead>\n",
       "    <tr style=\"text-align: right;\">\n",
       "      <th></th>\n",
       "      <th>Unnamed: 0</th>\n",
       "      <th>SepalLengthCm</th>\n",
       "      <th>SepalWidthCm</th>\n",
       "      <th>PetalLengthCm</th>\n",
       "      <th>PetalWidthCm</th>\n",
       "      <th>Species</th>\n",
       "    </tr>\n",
       "  </thead>\n",
       "  <tbody>\n",
       "    <tr>\n",
       "      <th>146</th>\n",
       "      <td>146</td>\n",
       "      <td>6.7</td>\n",
       "      <td>3.0</td>\n",
       "      <td>5.2</td>\n",
       "      <td>2.3</td>\n",
       "      <td>Iris-virginica</td>\n",
       "    </tr>\n",
       "    <tr>\n",
       "      <th>147</th>\n",
       "      <td>147</td>\n",
       "      <td>6.3</td>\n",
       "      <td>2.5</td>\n",
       "      <td>5.0</td>\n",
       "      <td>1.9</td>\n",
       "      <td>Iris-virginica</td>\n",
       "    </tr>\n",
       "    <tr>\n",
       "      <th>148</th>\n",
       "      <td>148</td>\n",
       "      <td>6.5</td>\n",
       "      <td>3.0</td>\n",
       "      <td>5.2</td>\n",
       "      <td>2.0</td>\n",
       "      <td>Iris-virginica</td>\n",
       "    </tr>\n",
       "    <tr>\n",
       "      <th>149</th>\n",
       "      <td>149</td>\n",
       "      <td>6.2</td>\n",
       "      <td>3.4</td>\n",
       "      <td>5.4</td>\n",
       "      <td>2.3</td>\n",
       "      <td>Iris-virginica</td>\n",
       "    </tr>\n",
       "    <tr>\n",
       "      <th>150</th>\n",
       "      <td>150</td>\n",
       "      <td>5.9</td>\n",
       "      <td>3.0</td>\n",
       "      <td>5.1</td>\n",
       "      <td>1.8</td>\n",
       "      <td>Iris-virginica</td>\n",
       "    </tr>\n",
       "  </tbody>\n",
       "</table>\n",
       "</div>"
      ],
      "text/plain": [
       "     Unnamed: 0  SepalLengthCm  SepalWidthCm  PetalLengthCm  PetalWidthCm  \\\n",
       "146         146            6.7           3.0            5.2           2.3   \n",
       "147         147            6.3           2.5            5.0           1.9   \n",
       "148         148            6.5           3.0            5.2           2.0   \n",
       "149         149            6.2           3.4            5.4           2.3   \n",
       "150         150            5.9           3.0            5.1           1.8   \n",
       "\n",
       "            Species  \n",
       "146  Iris-virginica  \n",
       "147  Iris-virginica  \n",
       "148  Iris-virginica  \n",
       "149  Iris-virginica  \n",
       "150  Iris-virginica  "
      ]
     },
     "execution_count": 10,
     "metadata": {},
     "output_type": "execute_result"
    }
   ],
   "source": [
    "## display the last five rows \n",
    "data3.tail()"
   ]
  },
  {
   "cell_type": "code",
   "execution_count": 11,
   "id": "ced99ad4-e92e-4273-962d-9aa64f473684",
   "metadata": {},
   "outputs": [
    {
     "data": {
      "text/html": [
       "<div>\n",
       "<style scoped>\n",
       "    .dataframe tbody tr th:only-of-type {\n",
       "        vertical-align: middle;\n",
       "    }\n",
       "\n",
       "    .dataframe tbody tr th {\n",
       "        vertical-align: top;\n",
       "    }\n",
       "\n",
       "    .dataframe thead th {\n",
       "        text-align: right;\n",
       "    }\n",
       "</style>\n",
       "<table border=\"1\" class=\"dataframe\">\n",
       "  <thead>\n",
       "    <tr style=\"text-align: right;\">\n",
       "      <th></th>\n",
       "      <th>Unnamed: 0</th>\n",
       "      <th>SepalLengthCm</th>\n",
       "      <th>SepalWidthCm</th>\n",
       "      <th>PetalLengthCm</th>\n",
       "      <th>PetalWidthCm</th>\n",
       "      <th>Species</th>\n",
       "    </tr>\n",
       "  </thead>\n",
       "  <tbody>\n",
       "    <tr>\n",
       "      <th>0</th>\n",
       "      <td>1</td>\n",
       "      <td>5.1</td>\n",
       "      <td>3.5</td>\n",
       "      <td>1.4</td>\n",
       "      <td>0.2</td>\n",
       "      <td>Iris-setosa</td>\n",
       "    </tr>\n",
       "    <tr>\n",
       "      <th>1</th>\n",
       "      <td>2</td>\n",
       "      <td>4.9</td>\n",
       "      <td>NaN</td>\n",
       "      <td>1.4</td>\n",
       "      <td>0.2</td>\n",
       "      <td>NaN</td>\n",
       "    </tr>\n",
       "    <tr>\n",
       "      <th>2</th>\n",
       "      <td>3</td>\n",
       "      <td>4.7</td>\n",
       "      <td>3.2</td>\n",
       "      <td>1.3</td>\n",
       "      <td>0.2</td>\n",
       "      <td>Iris-setosa</td>\n",
       "    </tr>\n",
       "    <tr>\n",
       "      <th>3</th>\n",
       "      <td>4</td>\n",
       "      <td>??</td>\n",
       "      <td>3.1</td>\n",
       "      <td>1.5</td>\n",
       "      <td>0.2</td>\n",
       "      <td>Iris-setosa</td>\n",
       "    </tr>\n",
       "    <tr>\n",
       "      <th>4</th>\n",
       "      <td>5</td>\n",
       "      <td>5</td>\n",
       "      <td>3.6</td>\n",
       "      <td>###</td>\n",
       "      <td>0.2</td>\n",
       "      <td>Iris-setosa</td>\n",
       "    </tr>\n",
       "    <tr>\n",
       "      <th>5</th>\n",
       "      <td>6</td>\n",
       "      <td>5.4</td>\n",
       "      <td>3.9</td>\n",
       "      <td>NaN</td>\n",
       "      <td>0.4</td>\n",
       "      <td>Iris-setosa</td>\n",
       "    </tr>\n",
       "    <tr>\n",
       "      <th>6</th>\n",
       "      <td>7</td>\n",
       "      <td>4.6</td>\n",
       "      <td>3.4</td>\n",
       "      <td>1.4</td>\n",
       "      <td>0.3</td>\n",
       "      <td>Iris-setosa</td>\n",
       "    </tr>\n",
       "  </tbody>\n",
       "</table>\n",
       "</div>"
      ],
      "text/plain": [
       "   Unnamed: 0 SepalLengthCm  SepalWidthCm PetalLengthCm  PetalWidthCm  \\\n",
       "0           1           5.1           3.5           1.4           0.2   \n",
       "1           2           4.9           NaN           1.4           0.2   \n",
       "2           3           4.7           3.2           1.3           0.2   \n",
       "3           4            ??           3.1           1.5           0.2   \n",
       "4           5             5           3.6           ###           0.2   \n",
       "5           6           5.4           3.9           NaN           0.4   \n",
       "6           7           4.6           3.4           1.4           0.3   \n",
       "\n",
       "       Species  \n",
       "0  Iris-setosa  \n",
       "1          NaN  \n",
       "2  Iris-setosa  \n",
       "3  Iris-setosa  \n",
       "4  Iris-setosa  \n",
       "5  Iris-setosa  \n",
       "6  Iris-setosa  "
      ]
     },
     "execution_count": 11,
     "metadata": {},
     "output_type": "execute_result"
    }
   ],
   "source": [
    "## display n the number of rows \n",
    "data.head(7)"
   ]
  },
  {
   "cell_type": "code",
   "execution_count": 12,
   "id": "df9e34b3-1ab0-4384-8f8f-fea4d3b3aeda",
   "metadata": {},
   "outputs": [
    {
     "data": {
      "text/plain": [
       "Index(['Unnamed: 0', 'SepalLengthCm', 'SepalWidthCm', 'PetalLengthCm',\n",
       "       'PetalWidthCm', 'Species'],\n",
       "      dtype='object')"
      ]
     },
     "execution_count": 12,
     "metadata": {},
     "output_type": "execute_result"
    }
   ],
   "source": [
    "df1.columns"
   ]
  },
  {
   "cell_type": "code",
   "execution_count": 13,
   "id": "ba4a8211-c9bd-469d-a2c2-2140ff7c560a",
   "metadata": {},
   "outputs": [
    {
     "name": "stdout",
     "output_type": "stream",
     "text": [
      "unnamed: 0\n",
      "sepallengthcm\n",
      "sepalwidthcm\n",
      "petallengthcm\n",
      "petalwidthcm\n",
      "species\n"
     ]
    }
   ],
   "source": [
    "for each_item in df1.columns:\n",
    "    print(each_item.lower())"
   ]
  },
  {
   "cell_type": "code",
   "execution_count": 14,
   "id": "e0e7511c-a653-44eb-afea-fc6f8294855a",
   "metadata": {},
   "outputs": [
    {
     "data": {
      "text/plain": [
       "0      5.1\n",
       "1      4.9\n",
       "2      4.7\n",
       "3       ??\n",
       "4        5\n",
       "      ... \n",
       "145    6.7\n",
       "146    6.3\n",
       "147    6.5\n",
       "148    6.2\n",
       "149    5.9\n",
       "Name: SepalLengthCm, Length: 150, dtype: object"
      ]
     },
     "execution_count": 14,
     "metadata": {},
     "output_type": "execute_result"
    }
   ],
   "source": [
    "df1['SepalLengthCm']"
   ]
  },
  {
   "cell_type": "code",
   "execution_count": 15,
   "id": "47aa5263-2a18-4d75-8c34-fca09f2e9309",
   "metadata": {},
   "outputs": [
    {
     "data": {
      "text/plain": [
       "'5.1'"
      ]
     },
     "execution_count": 15,
     "metadata": {},
     "output_type": "execute_result"
    }
   ],
   "source": [
    "## acceass a single value for a row/col by their label and index \n",
    "df1.at[0, 'SepalLengthCm']"
   ]
  },
  {
   "cell_type": "code",
   "execution_count": 16,
   "id": "c39ad1ac-1ad4-402d-86ee-8f03a3af0b96",
   "metadata": {},
   "outputs": [
    {
     "data": {
      "text/plain": [
       "'5.1'"
      ]
     },
     "execution_count": 16,
     "metadata": {},
     "output_type": "execute_result"
    }
   ],
   "source": [
    "df1.iat[0, 1]"
   ]
  },
  {
   "cell_type": "code",
   "execution_count": 17,
   "id": "7f5ed080-68f4-4c83-9db7-9cca6a45a29d",
   "metadata": {},
   "outputs": [
    {
     "data": {
      "text/plain": [
       "0     5.1\n",
       "1     4.9\n",
       "2     4.7\n",
       "3      ??\n",
       "4       5\n",
       "5     5.4\n",
       "6     4.6\n",
       "7       5\n",
       "8     4.4\n",
       "9     4.9\n",
       "10    5.4\n",
       "Name: SepalLengthCm, dtype: object"
      ]
     },
     "execution_count": 17,
     "metadata": {},
     "output_type": "execute_result"
    }
   ],
   "source": [
    "## accessing a group of rows and column by their label \n",
    "\n",
    "df1.loc[ 0: 10, 'SepalLengthCm']"
   ]
  },
  {
   "cell_type": "code",
   "execution_count": 18,
   "id": "61d71f46-b47d-4356-bdb3-6257914065bf",
   "metadata": {},
   "outputs": [
    {
     "data": {
      "text/plain": [
       "50      7\n",
       "51    6.4\n",
       "52    6.9\n",
       "53    5.5\n",
       "54    6.5\n",
       "55    5.7\n",
       "56    6.3\n",
       "57    4.9\n",
       "58    6.6\n",
       "59    5.2\n",
       "60      5\n",
       "Name: SepalLengthCm, dtype: object"
      ]
     },
     "execution_count": 18,
     "metadata": {},
     "output_type": "execute_result"
    }
   ],
   "source": [
    "df1.loc[50:60, 'SepalLengthCm']"
   ]
  },
  {
   "cell_type": "code",
   "execution_count": 19,
   "id": "184ce3fa-30ef-41e3-8381-dc3cfdedd91d",
   "metadata": {},
   "outputs": [
    {
     "data": {
      "text/plain": [
       "0    5.1\n",
       "1    4.9\n",
       "2    4.7\n",
       "3     ??\n",
       "4      5\n",
       "5    5.4\n",
       "6    4.6\n",
       "7      5\n",
       "8    4.4\n",
       "9    4.9\n",
       "Name: SepalLengthCm, dtype: object"
      ]
     },
     "execution_count": 19,
     "metadata": {},
     "output_type": "execute_result"
    }
   ],
   "source": [
    "df1.iloc[0: 10, 1]"
   ]
  },
  {
   "cell_type": "code",
   "execution_count": 20,
   "id": "5416bf21-ada9-4a85-bb07-7cebe4e75aa7",
   "metadata": {},
   "outputs": [
    {
     "data": {
      "text/html": [
       "<div>\n",
       "<style scoped>\n",
       "    .dataframe tbody tr th:only-of-type {\n",
       "        vertical-align: middle;\n",
       "    }\n",
       "\n",
       "    .dataframe tbody tr th {\n",
       "        vertical-align: top;\n",
       "    }\n",
       "\n",
       "    .dataframe thead th {\n",
       "        text-align: right;\n",
       "    }\n",
       "</style>\n",
       "<table border=\"1\" class=\"dataframe\">\n",
       "  <thead>\n",
       "    <tr style=\"text-align: right;\">\n",
       "      <th></th>\n",
       "      <th>Unnamed: 0</th>\n",
       "      <th>SepalLengthCm</th>\n",
       "      <th>SepalWidthCm</th>\n",
       "      <th>PetalLengthCm</th>\n",
       "      <th>PetalWidthCm</th>\n",
       "      <th>Species</th>\n",
       "    </tr>\n",
       "  </thead>\n",
       "  <tbody>\n",
       "    <tr>\n",
       "      <th>10</th>\n",
       "      <td>11</td>\n",
       "      <td>5.4</td>\n",
       "      <td>3.7</td>\n",
       "      <td>1.5</td>\n",
       "      <td>0.2</td>\n",
       "      <td>Iris-setosa</td>\n",
       "    </tr>\n",
       "    <tr>\n",
       "      <th>11</th>\n",
       "      <td>12</td>\n",
       "      <td>4.8</td>\n",
       "      <td>3.4</td>\n",
       "      <td>1.6</td>\n",
       "      <td>0.2</td>\n",
       "      <td>Iris-setosa</td>\n",
       "    </tr>\n",
       "    <tr>\n",
       "      <th>12</th>\n",
       "      <td>13</td>\n",
       "      <td>4.8</td>\n",
       "      <td>3.0</td>\n",
       "      <td>1.4</td>\n",
       "      <td>0.1</td>\n",
       "      <td>Iris-setosa</td>\n",
       "    </tr>\n",
       "    <tr>\n",
       "      <th>13</th>\n",
       "      <td>14</td>\n",
       "      <td>4.3</td>\n",
       "      <td>3.0</td>\n",
       "      <td>1.1</td>\n",
       "      <td>0.1</td>\n",
       "      <td>Iris-setosa</td>\n",
       "    </tr>\n",
       "    <tr>\n",
       "      <th>14</th>\n",
       "      <td>15</td>\n",
       "      <td>5.8</td>\n",
       "      <td>4.0</td>\n",
       "      <td>1.2</td>\n",
       "      <td>0.2</td>\n",
       "      <td>Iris-setosa</td>\n",
       "    </tr>\n",
       "    <tr>\n",
       "      <th>15</th>\n",
       "      <td>16</td>\n",
       "      <td>5.7</td>\n",
       "      <td>4.4</td>\n",
       "      <td>1.5</td>\n",
       "      <td>0.4</td>\n",
       "      <td>Iris-setosa</td>\n",
       "    </tr>\n",
       "  </tbody>\n",
       "</table>\n",
       "</div>"
      ],
      "text/plain": [
       "    Unnamed: 0 SepalLengthCm  SepalWidthCm PetalLengthCm  PetalWidthCm  \\\n",
       "10          11           5.4           3.7           1.5           0.2   \n",
       "11          12           4.8           3.4           1.6           0.2   \n",
       "12          13           4.8           3.0           1.4           0.1   \n",
       "13          14           4.3           3.0           1.1           0.1   \n",
       "14          15           5.8           4.0           1.2           0.2   \n",
       "15          16           5.7           4.4           1.5           0.4   \n",
       "\n",
       "        Species  \n",
       "10  Iris-setosa  \n",
       "11  Iris-setosa  \n",
       "12  Iris-setosa  \n",
       "13  Iris-setosa  \n",
       "14  Iris-setosa  \n",
       "15  Iris-setosa  "
      ]
     },
     "execution_count": 20,
     "metadata": {},
     "output_type": "execute_result"
    }
   ],
   "source": [
    "df1.loc[10:15, ]\n"
   ]
  },
  {
   "cell_type": "code",
   "execution_count": 21,
   "id": "edc67242-9b7e-4059-84af-dd366762527f",
   "metadata": {},
   "outputs": [
    {
     "data": {
      "text/plain": [
       "900"
      ]
     },
     "execution_count": 21,
     "metadata": {},
     "output_type": "execute_result"
    }
   ],
   "source": [
    "## returns the size of the dataset\n",
    "df1.size"
   ]
  },
  {
   "cell_type": "code",
   "execution_count": 22,
   "id": "0a806278-febf-4edf-aea4-8625c969a129",
   "metadata": {},
   "outputs": [
    {
     "data": {
      "text/plain": [
       "(150, 6)"
      ]
     },
     "execution_count": 22,
     "metadata": {},
     "output_type": "execute_result"
    }
   ],
   "source": [
    "## lets return the shape of the dataset \n",
    "df1.shape"
   ]
  },
  {
   "cell_type": "code",
   "execution_count": 23,
   "id": "cf627b9c-0089-440b-8fa3-9470319ec999",
   "metadata": {},
   "outputs": [
    {
     "name": "stdout",
     "output_type": "stream",
     "text": [
      "Total number of rows:  150 Total number of columns:  6\n"
     ]
    }
   ],
   "source": [
    "print(\"Total number of rows: \", df1.shape[0], \"Total number of columns: \" , df1.shape[1]) "
   ]
  },
  {
   "cell_type": "code",
   "execution_count": 24,
   "id": "f39747b2-f14b-4cd3-8d8b-a4dba8a5cad3",
   "metadata": {},
   "outputs": [
    {
     "name": "stdout",
     "output_type": "stream",
     "text": [
      "Total number of rows: 150 Total number of columns 6\n"
     ]
    }
   ],
   "source": [
    "print(f\"Total number of rows: {df1.shape[0]} Total number of columns {df1.shape[1]}\")"
   ]
  },
  {
   "cell_type": "code",
   "execution_count": 25,
   "id": "9e521f3f-5efd-4b3e-99f5-6cf88e30bac6",
   "metadata": {},
   "outputs": [
    {
     "name": "stdout",
     "output_type": "stream",
     "text": [
      "<class 'pandas.core.frame.DataFrame'>\n",
      "RangeIndex: 150 entries, 0 to 149\n",
      "Data columns (total 6 columns):\n",
      " #   Column         Non-Null Count  Dtype  \n",
      "---  ------         --------------  -----  \n",
      " 0   Unnamed: 0     150 non-null    int64  \n",
      " 1   SepalLengthCm  150 non-null    object \n",
      " 2   SepalWidthCm   149 non-null    float64\n",
      " 3   PetalLengthCm  149 non-null    object \n",
      " 4   PetalWidthCm   150 non-null    float64\n",
      " 5   Species        149 non-null    object \n",
      "dtypes: float64(2), int64(1), object(3)\n",
      "memory usage: 7.2+ KB\n"
     ]
    }
   ],
   "source": [
    "## return a concise summary of the dataset \n",
    "df1.info()"
   ]
  },
  {
   "cell_type": "code",
   "execution_count": 26,
   "id": "bf8ed191-e89f-4e10-a3c6-b271a2facdb4",
   "metadata": {},
   "outputs": [
    {
     "data": {
      "text/plain": [
       "Unnamed: 0         int64\n",
       "SepalLengthCm     object\n",
       "SepalWidthCm     float64\n",
       "PetalLengthCm     object\n",
       "PetalWidthCm     float64\n",
       "Species           object\n",
       "dtype: object"
      ]
     },
     "execution_count": 26,
     "metadata": {},
     "output_type": "execute_result"
    }
   ],
   "source": [
    "## return the columns and their data types \n",
    "df1.dtypes"
   ]
  },
  {
   "cell_type": "code",
   "execution_count": 27,
   "id": "e83adaf4-0d0f-4f14-8192-963bd1613de6",
   "metadata": {},
   "outputs": [
    {
     "data": {
      "text/plain": [
       "Unnamed: 0       150\n",
       "SepalLengthCm     36\n",
       "SepalWidthCm      23\n",
       "PetalLengthCm     44\n",
       "PetalWidthCm      22\n",
       "Species            3\n",
       "dtype: int64"
      ]
     },
     "execution_count": 27,
     "metadata": {},
     "output_type": "execute_result"
    }
   ],
   "source": [
    "## return the number of unique value \n",
    "df1.nunique()"
   ]
  },
  {
   "cell_type": "code",
   "execution_count": 28,
   "id": "67fa89d6-e6f0-4658-9945-e8474d51607a",
   "metadata": {},
   "outputs": [
    {
     "data": {
      "text/plain": [
       "array(['Iris-setosa', nan, 'Iris-versicolor', 'Iris-virginica'],\n",
       "      dtype=object)"
      ]
     },
     "execution_count": 28,
     "metadata": {},
     "output_type": "execute_result"
    }
   ],
   "source": [
    "df1['Species'].unique()"
   ]
  },
  {
   "cell_type": "code",
   "execution_count": 29,
   "id": "ee8a9a36-94cf-4c26-9e09-d82cb29dde9e",
   "metadata": {},
   "outputs": [
    {
     "data": {
      "text/plain": [
       "Unnamed: 0       0\n",
       "SepalLengthCm    0\n",
       "SepalWidthCm     1\n",
       "PetalLengthCm    1\n",
       "PetalWidthCm     0\n",
       "Species          1\n",
       "dtype: int64"
      ]
     },
     "execution_count": 29,
     "metadata": {},
     "output_type": "execute_result"
    }
   ],
   "source": [
    "## return the number of missing values in each column \n",
    "df1.isnull().sum()"
   ]
  },
  {
   "cell_type": "markdown",
   "id": "e531a613-d66d-4cdf-b432-462d66941916",
   "metadata": {},
   "source": [
    "## Data Preprocessing \n",
    "- Replacing special characters\n",
    "- Converting the column type\n",
    "- Imputing the missing values "
   ]
  },
  {
   "cell_type": "code",
   "execution_count": 30,
   "id": "825766b9-9d31-4b8c-842b-9ca9fc49a66e",
   "metadata": {},
   "outputs": [
    {
     "data": {
      "text/plain": [
       "0      5.1\n",
       "1      4.9\n",
       "2      4.7\n",
       "3      NaN\n",
       "4        5\n",
       "      ... \n",
       "145    6.7\n",
       "146    6.3\n",
       "147    6.5\n",
       "148    6.2\n",
       "149    5.9\n",
       "Name: SepalLengthCm, Length: 150, dtype: object"
      ]
     },
     "execution_count": 30,
     "metadata": {},
     "output_type": "execute_result"
    }
   ],
   "source": [
    "df1['SepalLengthCm'].replace(\"??\", np.nan)"
   ]
  },
  {
   "cell_type": "code",
   "execution_count": 31,
   "id": "6d52586a-f2e4-40d1-9fb1-b8cc2549044c",
   "metadata": {},
   "outputs": [],
   "source": [
    "# df1['SepalLengthCm'].replace(\"??\", np.nan, inplace=True)"
   ]
  },
  {
   "cell_type": "code",
   "execution_count": 32,
   "id": "7ca8b4d3-69b1-4b97-b271-fbc521445496",
   "metadata": {},
   "outputs": [],
   "source": [
    "## replace ?? with missing values \n",
    "df1['SepalLengthCm'] = df1['SepalLengthCm'].replace(\"??\", np.nan)"
   ]
  },
  {
   "cell_type": "code",
   "execution_count": 33,
   "id": "38ddaa55-df98-459a-ba00-b31702e4bc44",
   "metadata": {},
   "outputs": [
    {
     "data": {
      "text/plain": [
       "array(['5.1', '4.9', '4.7', nan, '5', '5.4', '4.6', '4.4', '4.8', '4.3',\n",
       "       '5.8', '5.7', '5.2', '5.5', '4.5', '5.3', '7', '6.4', '6.9', '6.5',\n",
       "       '6.3', '6.6', '5.9', '6', '6.1', '5.6', '6.7', '6.2', '6.8', '7.1',\n",
       "       '7.6', '7.3', '7.2', '7.7', '7.4', '7.9'], dtype=object)"
      ]
     },
     "execution_count": 33,
     "metadata": {},
     "output_type": "execute_result"
    }
   ],
   "source": [
    "## recheck for the special character \n",
    "df1['SepalLengthCm'].unique()"
   ]
  },
  {
   "cell_type": "code",
   "execution_count": 34,
   "id": "9c288167-5291-432b-9fa0-4be82aeba984",
   "metadata": {},
   "outputs": [],
   "source": [
    "## convert column type to float \n",
    "df1['SepalLengthCm'] = df1['SepalLengthCm'].astype('float64')"
   ]
  },
  {
   "cell_type": "code",
   "execution_count": 35,
   "id": "4d7d1aea-e18b-4269-a5f4-926c13bd09ee",
   "metadata": {},
   "outputs": [
    {
     "data": {
      "text/plain": [
       "Unnamed: 0         int64\n",
       "SepalLengthCm    float64\n",
       "SepalWidthCm     float64\n",
       "PetalLengthCm     object\n",
       "PetalWidthCm     float64\n",
       "Species           object\n",
       "dtype: object"
      ]
     },
     "execution_count": 35,
     "metadata": {},
     "output_type": "execute_result"
    }
   ],
   "source": [
    "df1.dtypes"
   ]
  },
  {
   "cell_type": "code",
   "execution_count": 36,
   "id": "ec5c7610-2ef1-4fea-b324-9086e7530487",
   "metadata": {},
   "outputs": [],
   "source": [
    "## replace ?? with missing values \n",
    "df1['PetalLengthCm'] = df1['PetalLengthCm'].replace(\"###\", np.nan)\n",
    "## convert column type to float \n",
    "df1['PetalLengthCm'] = df1['PetalLengthCm'].astype('float64')"
   ]
  },
  {
   "cell_type": "code",
   "execution_count": 37,
   "id": "d6ac93c1-801e-4557-a1d6-5f14fe6f1e0a",
   "metadata": {},
   "outputs": [
    {
     "data": {
      "text/plain": [
       "Unnamed: 0         int64\n",
       "SepalLengthCm    float64\n",
       "SepalWidthCm     float64\n",
       "PetalLengthCm    float64\n",
       "PetalWidthCm     float64\n",
       "Species           object\n",
       "dtype: object"
      ]
     },
     "execution_count": 37,
     "metadata": {},
     "output_type": "execute_result"
    }
   ],
   "source": [
    "df1.dtypes"
   ]
  },
  {
   "cell_type": "code",
   "execution_count": 38,
   "id": "11549c73-ac03-449b-9fb1-8bfe4d662c45",
   "metadata": {},
   "outputs": [
    {
     "data": {
      "text/plain": [
       "Unnamed: 0       0\n",
       "SepalLengthCm    1\n",
       "SepalWidthCm     1\n",
       "PetalLengthCm    2\n",
       "PetalWidthCm     0\n",
       "Species          1\n",
       "dtype: int64"
      ]
     },
     "execution_count": 38,
     "metadata": {},
     "output_type": "execute_result"
    }
   ],
   "source": [
    "df1.isnull().sum()"
   ]
  },
  {
   "cell_type": "code",
   "execution_count": 39,
   "id": "edf0b9c2-8c8c-4c84-b03e-67d1530973f8",
   "metadata": {},
   "outputs": [
    {
     "data": {
      "text/html": [
       "<div>\n",
       "<style scoped>\n",
       "    .dataframe tbody tr th:only-of-type {\n",
       "        vertical-align: middle;\n",
       "    }\n",
       "\n",
       "    .dataframe tbody tr th {\n",
       "        vertical-align: top;\n",
       "    }\n",
       "\n",
       "    .dataframe thead th {\n",
       "        text-align: right;\n",
       "    }\n",
       "</style>\n",
       "<table border=\"1\" class=\"dataframe\">\n",
       "  <thead>\n",
       "    <tr style=\"text-align: right;\">\n",
       "      <th></th>\n",
       "      <th>Unnamed: 0</th>\n",
       "      <th>SepalLengthCm</th>\n",
       "      <th>SepalWidthCm</th>\n",
       "      <th>PetalLengthCm</th>\n",
       "      <th>PetalWidthCm</th>\n",
       "      <th>Species</th>\n",
       "    </tr>\n",
       "  </thead>\n",
       "  <tbody>\n",
       "    <tr>\n",
       "      <th>0</th>\n",
       "      <td>1</td>\n",
       "      <td>5.1</td>\n",
       "      <td>3.5</td>\n",
       "      <td>1.4</td>\n",
       "      <td>0.2</td>\n",
       "      <td>Iris-setosa</td>\n",
       "    </tr>\n",
       "    <tr>\n",
       "      <th>1</th>\n",
       "      <td>2</td>\n",
       "      <td>4.9</td>\n",
       "      <td>NaN</td>\n",
       "      <td>1.4</td>\n",
       "      <td>0.2</td>\n",
       "      <td>NaN</td>\n",
       "    </tr>\n",
       "    <tr>\n",
       "      <th>2</th>\n",
       "      <td>3</td>\n",
       "      <td>4.7</td>\n",
       "      <td>3.2</td>\n",
       "      <td>1.3</td>\n",
       "      <td>0.2</td>\n",
       "      <td>Iris-setosa</td>\n",
       "    </tr>\n",
       "    <tr>\n",
       "      <th>3</th>\n",
       "      <td>4</td>\n",
       "      <td>NaN</td>\n",
       "      <td>3.1</td>\n",
       "      <td>1.5</td>\n",
       "      <td>0.2</td>\n",
       "      <td>Iris-setosa</td>\n",
       "    </tr>\n",
       "    <tr>\n",
       "      <th>4</th>\n",
       "      <td>5</td>\n",
       "      <td>5.0</td>\n",
       "      <td>3.6</td>\n",
       "      <td>NaN</td>\n",
       "      <td>0.2</td>\n",
       "      <td>Iris-setosa</td>\n",
       "    </tr>\n",
       "  </tbody>\n",
       "</table>\n",
       "</div>"
      ],
      "text/plain": [
       "   Unnamed: 0  SepalLengthCm  SepalWidthCm  PetalLengthCm  PetalWidthCm  \\\n",
       "0           1            5.1           3.5            1.4           0.2   \n",
       "1           2            4.9           NaN            1.4           0.2   \n",
       "2           3            4.7           3.2            1.3           0.2   \n",
       "3           4            NaN           3.1            1.5           0.2   \n",
       "4           5            5.0           3.6            NaN           0.2   \n",
       "\n",
       "       Species  \n",
       "0  Iris-setosa  \n",
       "1          NaN  \n",
       "2  Iris-setosa  \n",
       "3  Iris-setosa  \n",
       "4  Iris-setosa  "
      ]
     },
     "execution_count": 39,
     "metadata": {},
     "output_type": "execute_result"
    }
   ],
   "source": [
    "df1.head()"
   ]
  },
  {
   "cell_type": "code",
   "execution_count": 40,
   "id": "d40a3198-87fa-48e7-8e26-55ba28c917fd",
   "metadata": {},
   "outputs": [],
   "source": [
    "## fix / impute missing values for SepalLengthCm\n",
    "mean_seplencm = df1['SepalLengthCm'].mean()"
   ]
  },
  {
   "cell_type": "code",
   "execution_count": 41,
   "id": "3193ce91-5bc7-4243-9378-e15bbde257a2",
   "metadata": {},
   "outputs": [
    {
     "name": "stdout",
     "output_type": "stream",
     "text": [
      "5.851677852348993\n"
     ]
    }
   ],
   "source": [
    "print(mean_seplencm)"
   ]
  },
  {
   "cell_type": "code",
   "execution_count": 42,
   "id": "16f779a4-5f05-433c-8e24-d5938dbd9fec",
   "metadata": {},
   "outputs": [],
   "source": [
    "df1['SepalLengthCm'] = df1['SepalLengthCm'].fillna(mean_seplencm)"
   ]
  },
  {
   "cell_type": "code",
   "execution_count": 43,
   "id": "a04da6f0-70b7-4e8b-952f-d83f523e87ac",
   "metadata": {},
   "outputs": [
    {
     "data": {
      "text/plain": [
       "Unnamed: 0       0\n",
       "SepalLengthCm    0\n",
       "SepalWidthCm     1\n",
       "PetalLengthCm    2\n",
       "PetalWidthCm     0\n",
       "Species          1\n",
       "dtype: int64"
      ]
     },
     "execution_count": 43,
     "metadata": {},
     "output_type": "execute_result"
    }
   ],
   "source": [
    "df1.isnull().sum()"
   ]
  },
  {
   "cell_type": "code",
   "execution_count": 44,
   "id": "57bd03d0-ca67-42d3-b9d6-aac52d8efc47",
   "metadata": {},
   "outputs": [],
   "source": [
    "df1['SepalWidthCm'] = df1['SepalWidthCm'].fillna(df1['SepalWidthCm'].mean())"
   ]
  },
  {
   "cell_type": "code",
   "execution_count": 45,
   "id": "fc658a7b-fe2b-4b6f-b031-e4494e52a8e6",
   "metadata": {},
   "outputs": [],
   "source": [
    "df1['PetalLengthCm'] = df1['PetalLengthCm'].fillna(df1['PetalLengthCm'].median())"
   ]
  },
  {
   "cell_type": "code",
   "execution_count": 46,
   "id": "5eea6231-77bf-4b04-8b48-75a786bd1be2",
   "metadata": {},
   "outputs": [
    {
     "data": {
      "text/plain": [
       "Species\n",
       "Iris-versicolor    50\n",
       "Iris-virginica     50\n",
       "Iris-setosa        49\n",
       "Name: count, dtype: int64"
      ]
     },
     "execution_count": 46,
     "metadata": {},
     "output_type": "execute_result"
    }
   ],
   "source": [
    "## fixing missing values for species columns \n",
    "df1['Species'].value_counts()"
   ]
  },
  {
   "cell_type": "code",
   "execution_count": 47,
   "id": "376e034b-8b12-41c6-8f35-e855aa815114",
   "metadata": {},
   "outputs": [],
   "source": [
    "## selecting the value with highest count \n",
    "highest_count = df1['Species'].value_counts().index[0]"
   ]
  },
  {
   "cell_type": "code",
   "execution_count": 48,
   "id": "7c5ccbac-0d6e-43e7-ab03-2c8b3633eead",
   "metadata": {},
   "outputs": [],
   "source": [
    "## replace it in the column \n",
    "df1['Species'] = df1['Species'].fillna(highest_count)"
   ]
  },
  {
   "cell_type": "code",
   "execution_count": 49,
   "id": "489d8638-5240-4b8e-a8d1-8d2b7a1e2302",
   "metadata": {},
   "outputs": [
    {
     "data": {
      "text/plain": [
       "Unnamed: 0       0\n",
       "SepalLengthCm    0\n",
       "SepalWidthCm     0\n",
       "PetalLengthCm    0\n",
       "PetalWidthCm     0\n",
       "Species          0\n",
       "dtype: int64"
      ]
     },
     "execution_count": 49,
     "metadata": {},
     "output_type": "execute_result"
    }
   ],
   "source": [
    "df1.isnull().sum()"
   ]
  },
  {
   "cell_type": "markdown",
   "id": "10394f99-96f3-40a0-9395-e23e9fb07ce0",
   "metadata": {},
   "source": [
    "## Statistical Summary "
   ]
  },
  {
   "cell_type": "code",
   "execution_count": 52,
   "id": "4c5507f0-b2be-4aae-8c7a-e4d2d0ac5bf4",
   "metadata": {},
   "outputs": [
    {
     "data": {
      "text/html": [
       "<div>\n",
       "<style scoped>\n",
       "    .dataframe tbody tr th:only-of-type {\n",
       "        vertical-align: middle;\n",
       "    }\n",
       "\n",
       "    .dataframe tbody tr th {\n",
       "        vertical-align: top;\n",
       "    }\n",
       "\n",
       "    .dataframe thead th {\n",
       "        text-align: right;\n",
       "    }\n",
       "</style>\n",
       "<table border=\"1\" class=\"dataframe\">\n",
       "  <thead>\n",
       "    <tr style=\"text-align: right;\">\n",
       "      <th></th>\n",
       "      <th>Unnamed: 0</th>\n",
       "      <th>SepalLengthCm</th>\n",
       "      <th>SepalWidthCm</th>\n",
       "      <th>PetalLengthCm</th>\n",
       "      <th>PetalWidthCm</th>\n",
       "    </tr>\n",
       "  </thead>\n",
       "  <tbody>\n",
       "    <tr>\n",
       "      <th>count</th>\n",
       "      <td>150.0</td>\n",
       "      <td>150.0</td>\n",
       "      <td>150.0</td>\n",
       "      <td>150.0</td>\n",
       "      <td>150.0</td>\n",
       "    </tr>\n",
       "    <tr>\n",
       "      <th>mean</th>\n",
       "      <td>76.0</td>\n",
       "      <td>6.0</td>\n",
       "      <td>3.0</td>\n",
       "      <td>4.0</td>\n",
       "      <td>1.0</td>\n",
       "    </tr>\n",
       "    <tr>\n",
       "      <th>std</th>\n",
       "      <td>43.0</td>\n",
       "      <td>1.0</td>\n",
       "      <td>0.0</td>\n",
       "      <td>2.0</td>\n",
       "      <td>1.0</td>\n",
       "    </tr>\n",
       "    <tr>\n",
       "      <th>min</th>\n",
       "      <td>1.0</td>\n",
       "      <td>4.0</td>\n",
       "      <td>2.0</td>\n",
       "      <td>1.0</td>\n",
       "      <td>0.0</td>\n",
       "    </tr>\n",
       "    <tr>\n",
       "      <th>25%</th>\n",
       "      <td>38.0</td>\n",
       "      <td>5.0</td>\n",
       "      <td>3.0</td>\n",
       "      <td>2.0</td>\n",
       "      <td>0.0</td>\n",
       "    </tr>\n",
       "    <tr>\n",
       "      <th>50%</th>\n",
       "      <td>76.0</td>\n",
       "      <td>6.0</td>\n",
       "      <td>3.0</td>\n",
       "      <td>4.0</td>\n",
       "      <td>1.0</td>\n",
       "    </tr>\n",
       "    <tr>\n",
       "      <th>75%</th>\n",
       "      <td>113.0</td>\n",
       "      <td>6.0</td>\n",
       "      <td>3.0</td>\n",
       "      <td>5.0</td>\n",
       "      <td>2.0</td>\n",
       "    </tr>\n",
       "    <tr>\n",
       "      <th>max</th>\n",
       "      <td>150.0</td>\n",
       "      <td>8.0</td>\n",
       "      <td>4.0</td>\n",
       "      <td>7.0</td>\n",
       "      <td>2.0</td>\n",
       "    </tr>\n",
       "  </tbody>\n",
       "</table>\n",
       "</div>"
      ],
      "text/plain": [
       "       Unnamed: 0  SepalLengthCm  SepalWidthCm  PetalLengthCm  PetalWidthCm\n",
       "count       150.0          150.0         150.0          150.0         150.0\n",
       "mean         76.0            6.0           3.0            4.0           1.0\n",
       "std          43.0            1.0           0.0            2.0           1.0\n",
       "min           1.0            4.0           2.0            1.0           0.0\n",
       "25%          38.0            5.0           3.0            2.0           0.0\n",
       "50%          76.0            6.0           3.0            4.0           1.0\n",
       "75%         113.0            6.0           3.0            5.0           2.0\n",
       "max         150.0            8.0           4.0            7.0           2.0"
      ]
     },
     "execution_count": 52,
     "metadata": {},
     "output_type": "execute_result"
    }
   ],
   "source": [
    "df1.describe().round()"
   ]
  },
  {
   "cell_type": "code",
   "execution_count": 55,
   "id": "fce2afd2-8b47-43d2-9f21-51b6ed3cd223",
   "metadata": {},
   "outputs": [
    {
     "ename": "TypeError",
     "evalue": "crosstab() missing 1 required positional argument: 'columns'",
     "output_type": "error",
     "traceback": [
      "\u001b[1;31m---------------------------------------------------------------------------\u001b[0m",
      "\u001b[1;31mTypeError\u001b[0m                                 Traceback (most recent call last)",
      "Cell \u001b[1;32mIn[55], line 1\u001b[0m\n\u001b[1;32m----> 1\u001b[0m \u001b[43mpd\u001b[49m\u001b[38;5;241;43m.\u001b[39;49m\u001b[43mcrosstab\u001b[49m\u001b[43m(\u001b[49m\u001b[43mdf1\u001b[49m\u001b[43m)\u001b[49m\n",
      "\u001b[1;31mTypeError\u001b[0m: crosstab() missing 1 required positional argument: 'columns'"
     ]
    }
   ],
   "source": [
    "pd.crosstab(df1)"
   ]
  },
  {
   "cell_type": "code",
   "execution_count": null,
   "id": "bdfbfef6-c82f-4594-b69a-e9e24a20d0d6",
   "metadata": {},
   "outputs": [],
   "source": []
  }
 ],
 "metadata": {
  "kernelspec": {
   "display_name": "Python 3 (ipykernel)",
   "language": "python",
   "name": "python3"
  },
  "language_info": {
   "codemirror_mode": {
    "name": "ipython",
    "version": 3
   },
   "file_extension": ".py",
   "mimetype": "text/x-python",
   "name": "python",
   "nbconvert_exporter": "python",
   "pygments_lexer": "ipython3",
   "version": "3.12.5"
  }
 },
 "nbformat": 4,
 "nbformat_minor": 5
}
