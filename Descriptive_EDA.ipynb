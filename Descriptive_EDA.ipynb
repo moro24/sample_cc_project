{
 "cells": [
  {
   "cell_type": "markdown",
   "id": "f66cc005-b1c2-4f67-88f9-1db6773d6205",
   "metadata": {},
   "source": [
    "## Importing Libraries "
   ]
  },
  {
   "cell_type": "code",
   "execution_count": 1,
   "id": "19665630-8881-450f-ae48-cbfe7e1029aa",
   "metadata": {},
   "outputs": [],
   "source": [
    "## for loading and preprocessing \n",
    "import numpy as np\n",
    "import pandas as pd\n",
    "\n",
    "## for visualizations \n",
    "import matplotlib.pyplot as plt \n",
    "import seaborn as sns \n"
   ]
  },
  {
   "cell_type": "code",
   "execution_count": 2,
   "id": "23d67425-eb2b-4402-8b12-111a4c82d5dd",
   "metadata": {},
   "outputs": [],
   "source": [
    "## loading dataset\n",
    "df = pd.read_csv(\"cleaned_toyota.csv\")"
   ]
  },
  {
   "cell_type": "code",
   "execution_count": 3,
   "id": "97307b01-15ff-4abe-9481-7b3344444951",
   "metadata": {},
   "outputs": [],
   "source": [
    "# df.head()"
   ]
  },
  {
   "cell_type": "code",
   "execution_count": 4,
   "id": "eef59d4f-e1b0-4294-b4a4-2d7c8bdc9a3a",
   "metadata": {},
   "outputs": [],
   "source": [
    "df_new = df.drop('Unnamed: 0', axis=1)"
   ]
  },
  {
   "cell_type": "code",
   "execution_count": 5,
   "id": "77de1f0e-fe9f-4394-8b12-1f7c7537a763",
   "metadata": {},
   "outputs": [],
   "source": [
    "# df_new.head()"
   ]
  },
  {
   "cell_type": "code",
   "execution_count": 6,
   "id": "808fb384-fdad-4da6-8deb-ee8807413240",
   "metadata": {},
   "outputs": [],
   "source": [
    "df_new.to_csv('cleaned_toyota_1.csv')"
   ]
  },
  {
   "cell_type": "code",
   "execution_count": 7,
   "id": "cdaa4f98-6075-4b9b-b8c5-1261bb036d30",
   "metadata": {},
   "outputs": [],
   "source": [
    "df_new['MetColor'] = df_new['MetColor'].astype('category')\n",
    "df_new['Automatic'] = df_new['Automatic'].astype('category')\n",
    "df_new['CC'] = df_new['CC'].astype('category')\n",
    "df_new['Doors'] = df_new['Doors'].astype('category')"
   ]
  },
  {
   "cell_type": "code",
   "execution_count": null,
   "id": "b9f939b9-be39-4811-9bca-ece5fd113852",
   "metadata": {},
   "outputs": [],
   "source": []
  },
  {
   "cell_type": "markdown",
   "id": "2b35bc21-3d78-4fe0-b75f-a9c7de48510c",
   "metadata": {},
   "source": [
    "## Descriptive Statistics \n",
    "- statistical summary "
   ]
  },
  {
   "cell_type": "code",
   "execution_count": 8,
   "id": "1513a8bb-7571-4e37-b5ab-ff4754a262d4",
   "metadata": {},
   "outputs": [
    {
     "data": {
      "text/html": [
       "<div>\n",
       "<style scoped>\n",
       "    .dataframe tbody tr th:only-of-type {\n",
       "        vertical-align: middle;\n",
       "    }\n",
       "\n",
       "    .dataframe tbody tr th {\n",
       "        vertical-align: top;\n",
       "    }\n",
       "\n",
       "    .dataframe thead th {\n",
       "        text-align: right;\n",
       "    }\n",
       "</style>\n",
       "<table border=\"1\" class=\"dataframe\">\n",
       "  <thead>\n",
       "    <tr style=\"text-align: right;\">\n",
       "      <th></th>\n",
       "      <th>Price</th>\n",
       "      <th>Age</th>\n",
       "      <th>KM</th>\n",
       "      <th>HP</th>\n",
       "      <th>Weight</th>\n",
       "    </tr>\n",
       "  </thead>\n",
       "  <tbody>\n",
       "    <tr>\n",
       "      <th>count</th>\n",
       "      <td>1436.0</td>\n",
       "      <td>1436.0</td>\n",
       "      <td>1436.0</td>\n",
       "      <td>1436.0</td>\n",
       "      <td>1436.0</td>\n",
       "    </tr>\n",
       "    <tr>\n",
       "      <th>mean</th>\n",
       "      <td>10731.0</td>\n",
       "      <td>101.0</td>\n",
       "      <td>68647.0</td>\n",
       "      <td>101.0</td>\n",
       "      <td>1072.0</td>\n",
       "    </tr>\n",
       "    <tr>\n",
       "      <th>std</th>\n",
       "      <td>3627.0</td>\n",
       "      <td>15.0</td>\n",
       "      <td>37137.0</td>\n",
       "      <td>15.0</td>\n",
       "      <td>53.0</td>\n",
       "    </tr>\n",
       "    <tr>\n",
       "      <th>min</th>\n",
       "      <td>4350.0</td>\n",
       "      <td>69.0</td>\n",
       "      <td>1.0</td>\n",
       "      <td>69.0</td>\n",
       "      <td>1000.0</td>\n",
       "    </tr>\n",
       "    <tr>\n",
       "      <th>25%</th>\n",
       "      <td>8450.0</td>\n",
       "      <td>90.0</td>\n",
       "      <td>43506.0</td>\n",
       "      <td>90.0</td>\n",
       "      <td>1040.0</td>\n",
       "    </tr>\n",
       "    <tr>\n",
       "      <th>50%</th>\n",
       "      <td>9900.0</td>\n",
       "      <td>110.0</td>\n",
       "      <td>64000.0</td>\n",
       "      <td>110.0</td>\n",
       "      <td>1070.0</td>\n",
       "    </tr>\n",
       "    <tr>\n",
       "      <th>75%</th>\n",
       "      <td>11950.0</td>\n",
       "      <td>110.0</td>\n",
       "      <td>86916.0</td>\n",
       "      <td>110.0</td>\n",
       "      <td>1085.0</td>\n",
       "    </tr>\n",
       "    <tr>\n",
       "      <th>max</th>\n",
       "      <td>32500.0</td>\n",
       "      <td>192.0</td>\n",
       "      <td>243000.0</td>\n",
       "      <td>192.0</td>\n",
       "      <td>1615.0</td>\n",
       "    </tr>\n",
       "  </tbody>\n",
       "</table>\n",
       "</div>"
      ],
      "text/plain": [
       "         Price     Age        KM      HP  Weight\n",
       "count   1436.0  1436.0    1436.0  1436.0  1436.0\n",
       "mean   10731.0   101.0   68647.0   101.0  1072.0\n",
       "std     3627.0    15.0   37137.0    15.0    53.0\n",
       "min     4350.0    69.0       1.0    69.0  1000.0\n",
       "25%     8450.0    90.0   43506.0    90.0  1040.0\n",
       "50%     9900.0   110.0   64000.0   110.0  1070.0\n",
       "75%    11950.0   110.0   86916.0   110.0  1085.0\n",
       "max    32500.0   192.0  243000.0   192.0  1615.0"
      ]
     },
     "execution_count": 8,
     "metadata": {},
     "output_type": "execute_result"
    }
   ],
   "source": [
    "## display all the statistical of the numerical cols \n",
    "df_new.describe().round()"
   ]
  },
  {
   "cell_type": "code",
   "execution_count": 9,
   "id": "f107c5be-8aad-40f3-b017-6e2b1b1ac05a",
   "metadata": {},
   "outputs": [],
   "source": [
    "## select numerical only \n",
    "numerical_cols = df_new.select_dtypes(include=['int', 'float'])"
   ]
  },
  {
   "cell_type": "code",
   "execution_count": 10,
   "id": "f26b6852-34c5-4c52-b71a-4b21d241975a",
   "metadata": {},
   "outputs": [
    {
     "data": {
      "text/html": [
       "<div>\n",
       "<style scoped>\n",
       "    .dataframe tbody tr th:only-of-type {\n",
       "        vertical-align: middle;\n",
       "    }\n",
       "\n",
       "    .dataframe tbody tr th {\n",
       "        vertical-align: top;\n",
       "    }\n",
       "\n",
       "    .dataframe thead th {\n",
       "        text-align: right;\n",
       "    }\n",
       "</style>\n",
       "<table border=\"1\" class=\"dataframe\">\n",
       "  <thead>\n",
       "    <tr style=\"text-align: right;\">\n",
       "      <th></th>\n",
       "      <th>Price</th>\n",
       "      <th>Age</th>\n",
       "      <th>KM</th>\n",
       "      <th>HP</th>\n",
       "      <th>Weight</th>\n",
       "    </tr>\n",
       "  </thead>\n",
       "  <tbody>\n",
       "    <tr>\n",
       "      <th>0</th>\n",
       "      <td>13500</td>\n",
       "      <td>90</td>\n",
       "      <td>46986</td>\n",
       "      <td>90.0</td>\n",
       "      <td>1165</td>\n",
       "    </tr>\n",
       "    <tr>\n",
       "      <th>1</th>\n",
       "      <td>13750</td>\n",
       "      <td>90</td>\n",
       "      <td>72937</td>\n",
       "      <td>90.0</td>\n",
       "      <td>1165</td>\n",
       "    </tr>\n",
       "    <tr>\n",
       "      <th>2</th>\n",
       "      <td>13950</td>\n",
       "      <td>90</td>\n",
       "      <td>41711</td>\n",
       "      <td>90.0</td>\n",
       "      <td>1165</td>\n",
       "    </tr>\n",
       "    <tr>\n",
       "      <th>3</th>\n",
       "      <td>14950</td>\n",
       "      <td>90</td>\n",
       "      <td>48000</td>\n",
       "      <td>90.0</td>\n",
       "      <td>1165</td>\n",
       "    </tr>\n",
       "    <tr>\n",
       "      <th>4</th>\n",
       "      <td>13750</td>\n",
       "      <td>90</td>\n",
       "      <td>38500</td>\n",
       "      <td>90.0</td>\n",
       "      <td>1170</td>\n",
       "    </tr>\n",
       "    <tr>\n",
       "      <th>...</th>\n",
       "      <td>...</td>\n",
       "      <td>...</td>\n",
       "      <td>...</td>\n",
       "      <td>...</td>\n",
       "      <td>...</td>\n",
       "    </tr>\n",
       "    <tr>\n",
       "      <th>1431</th>\n",
       "      <td>7500</td>\n",
       "      <td>86</td>\n",
       "      <td>20544</td>\n",
       "      <td>86.0</td>\n",
       "      <td>1025</td>\n",
       "    </tr>\n",
       "    <tr>\n",
       "      <th>1432</th>\n",
       "      <td>10845</td>\n",
       "      <td>86</td>\n",
       "      <td>68647</td>\n",
       "      <td>86.0</td>\n",
       "      <td>1015</td>\n",
       "    </tr>\n",
       "    <tr>\n",
       "      <th>1433</th>\n",
       "      <td>8500</td>\n",
       "      <td>86</td>\n",
       "      <td>17016</td>\n",
       "      <td>86.0</td>\n",
       "      <td>1015</td>\n",
       "    </tr>\n",
       "    <tr>\n",
       "      <th>1434</th>\n",
       "      <td>7250</td>\n",
       "      <td>86</td>\n",
       "      <td>68647</td>\n",
       "      <td>86.0</td>\n",
       "      <td>1015</td>\n",
       "    </tr>\n",
       "    <tr>\n",
       "      <th>1435</th>\n",
       "      <td>6950</td>\n",
       "      <td>110</td>\n",
       "      <td>1</td>\n",
       "      <td>110.0</td>\n",
       "      <td>1114</td>\n",
       "    </tr>\n",
       "  </tbody>\n",
       "</table>\n",
       "<p>1436 rows × 5 columns</p>\n",
       "</div>"
      ],
      "text/plain": [
       "      Price  Age     KM     HP  Weight\n",
       "0     13500   90  46986   90.0    1165\n",
       "1     13750   90  72937   90.0    1165\n",
       "2     13950   90  41711   90.0    1165\n",
       "3     14950   90  48000   90.0    1165\n",
       "4     13750   90  38500   90.0    1170\n",
       "...     ...  ...    ...    ...     ...\n",
       "1431   7500   86  20544   86.0    1025\n",
       "1432  10845   86  68647   86.0    1015\n",
       "1433   8500   86  17016   86.0    1015\n",
       "1434   7250   86  68647   86.0    1015\n",
       "1435   6950  110      1  110.0    1114\n",
       "\n",
       "[1436 rows x 5 columns]"
      ]
     },
     "execution_count": 10,
     "metadata": {},
     "output_type": "execute_result"
    }
   ],
   "source": [
    "numerical_cols"
   ]
  },
  {
   "cell_type": "code",
   "execution_count": 11,
   "id": "24c32c13-89ef-4c0d-a48b-360c35cee0e4",
   "metadata": {},
   "outputs": [],
   "source": [
    "correlation = numerical_cols.corr()"
   ]
  },
  {
   "cell_type": "code",
   "execution_count": 12,
   "id": "1a363e71-2ce4-40a9-be90-7c76f4be5a22",
   "metadata": {},
   "outputs": [
    {
     "data": {
      "text/html": [
       "<div>\n",
       "<style scoped>\n",
       "    .dataframe tbody tr th:only-of-type {\n",
       "        vertical-align: middle;\n",
       "    }\n",
       "\n",
       "    .dataframe tbody tr th {\n",
       "        vertical-align: top;\n",
       "    }\n",
       "\n",
       "    .dataframe thead th {\n",
       "        text-align: right;\n",
       "    }\n",
       "</style>\n",
       "<table border=\"1\" class=\"dataframe\">\n",
       "  <thead>\n",
       "    <tr style=\"text-align: right;\">\n",
       "      <th></th>\n",
       "      <th>Price</th>\n",
       "      <th>Age</th>\n",
       "      <th>KM</th>\n",
       "      <th>HP</th>\n",
       "      <th>Weight</th>\n",
       "    </tr>\n",
       "  </thead>\n",
       "  <tbody>\n",
       "    <tr>\n",
       "      <th>Price</th>\n",
       "      <td>1.000000</td>\n",
       "      <td>0.308321</td>\n",
       "      <td>-0.565016</td>\n",
       "      <td>0.308414</td>\n",
       "      <td>0.581198</td>\n",
       "    </tr>\n",
       "    <tr>\n",
       "      <th>Age</th>\n",
       "      <td>0.308321</td>\n",
       "      <td>1.000000</td>\n",
       "      <td>-0.333029</td>\n",
       "      <td>0.999998</td>\n",
       "      <td>0.086044</td>\n",
       "    </tr>\n",
       "    <tr>\n",
       "      <th>KM</th>\n",
       "      <td>-0.565016</td>\n",
       "      <td>-0.333029</td>\n",
       "      <td>1.000000</td>\n",
       "      <td>-0.332984</td>\n",
       "      <td>-0.025758</td>\n",
       "    </tr>\n",
       "    <tr>\n",
       "      <th>HP</th>\n",
       "      <td>0.308414</td>\n",
       "      <td>0.999998</td>\n",
       "      <td>-0.332984</td>\n",
       "      <td>1.000000</td>\n",
       "      <td>0.086214</td>\n",
       "    </tr>\n",
       "    <tr>\n",
       "      <th>Weight</th>\n",
       "      <td>0.581198</td>\n",
       "      <td>0.086044</td>\n",
       "      <td>-0.025758</td>\n",
       "      <td>0.086214</td>\n",
       "      <td>1.000000</td>\n",
       "    </tr>\n",
       "  </tbody>\n",
       "</table>\n",
       "</div>"
      ],
      "text/plain": [
       "           Price       Age        KM        HP    Weight\n",
       "Price   1.000000  0.308321 -0.565016  0.308414  0.581198\n",
       "Age     0.308321  1.000000 -0.333029  0.999998  0.086044\n",
       "KM     -0.565016 -0.333029  1.000000 -0.332984 -0.025758\n",
       "HP      0.308414  0.999998 -0.332984  1.000000  0.086214\n",
       "Weight  0.581198  0.086044 -0.025758  0.086214  1.000000"
      ]
     },
     "execution_count": 12,
     "metadata": {},
     "output_type": "execute_result"
    }
   ],
   "source": [
    "correlation"
   ]
  },
  {
   "cell_type": "code",
   "execution_count": 13,
   "id": "88a2db23-5338-4560-8e63-6aa26c256f5f",
   "metadata": {},
   "outputs": [
    {
     "data": {
      "text/plain": [
       "Price     1.000000\n",
       "Weight    0.581198\n",
       "HP        0.308414\n",
       "Age       0.308321\n",
       "KM       -0.565016\n",
       "Name: Price, dtype: float64"
      ]
     },
     "execution_count": 13,
     "metadata": {},
     "output_type": "execute_result"
    }
   ],
   "source": [
    "correlation['Price'].sort_values(ascending=False)"
   ]
  },
  {
   "cell_type": "markdown",
   "id": "bfd97042-a977-4375-b7ce-556e1874314e",
   "metadata": {},
   "source": [
    "### Target Variable Analysis "
   ]
  },
  {
   "cell_type": "code",
   "execution_count": 21,
   "id": "45b544a0-9533-4d82-a768-61d443fbac81",
   "metadata": {},
   "outputs": [
    {
     "data": {
      "image/png": "[encoded data removed]",
      "text/plain": [
       "<Figure size 800x400 with 1 Axes>"
      ]
     },
     "metadata": {},
     "output_type": "display_data"
    }
   ],
   "source": [
    "plt.figure(figsize=(8, 4))\n",
    "\n",
    "plt.hist(df_new['Price'], color='red', bins=10) \n",
    "\n",
    "plt.title(\"Frequency Distribution of Price of Car\")\n",
    "plt.xlabel(\"Price\")\n",
    "plt.ylabel(\"Frequency\")\n",
    "\n",
    "plt.show()"
   ]
  },
  {
   "cell_type": "code",
   "execution_count": 22,
   "id": "1afce475-24eb-463b-88c3-175555c72ab3",
   "metadata": {},
   "outputs": [
    {
     "data": {
      "image/png": "[encoded data removed]",
      "text/plain": [
       "<Figure size 800x400 with 1 Axes>"
      ]
     },
     "metadata": {},
     "output_type": "display_data"
    }
   ],
   "source": [
    "plt.figure(figsize=(8, 4))\n",
    "\n",
    "sns.histplot(df_new['Price'], bins=30, color='blue')\n",
    "\n",
    "plt.title(\"Frequency Distribution of Price of Car\")\n",
    "plt.xlabel(\"Price\")\n",
    "plt.ylabel(\"Frequency\")\n",
    "\n",
    "plt.show()"
   ]
  },
  {
   "cell_type": "code",
   "execution_count": null,
   "id": "d2811e74-49a0-410a-95b5-db001733b68f",
   "metadata": {},
   "outputs": [],
   "source": [
    "plt.figure(figsize=(8, 4))\n",
    "\n",
    "sns.scatterplot(data=df_new, x='Age', y='Price', color='green')\n",
    "\n",
    "plt.title(\"Correlation b/n Age and Price \")\n",
    "plt.xlabel(\"Age(months)\")\n",
    "plt.ylabel(\"Price\")\n",
    "\n",
    "plt.show()"
   ]
  },
  {
   "cell_type": "code",
   "execution_count": 26,
   "id": "4323571f-b1c7-41ee-b44e-1a9c5281db5b",
   "metadata": {},
   "outputs": [
    {
     "data": {
      "image/png": "[encoded data removed]",
      "text/plain": [
       "<Figure size 800x400 with 1 Axes>"
      ]
     },
     "metadata": {},
     "output_type": "display_data"
    }
   ],
   "source": [
    "plt.figure(figsize=(8, 4))\n",
    "\n",
    "sns.boxplot(x= \"FuelType\", y=\"Price\", data=df_new,)\n",
    "\n",
    "plt.title(\"Distribution of Fuel Type\")\n",
    "plt.xlabel(\"Fuel Type\")\n",
    "# plt.ylabel(\"Price\")\n",
    "\n",
    "plt.show()"
   ]
  },
  {
   "cell_type": "code",
   "execution_count": 34,
   "id": "64367db4-0750-4b69-8cf8-0518fb84ff4e",
   "metadata": {},
   "outputs": [
    {
     "data": {
      "image/png": "[encoded data removed]",
      "text/plain": [
       "<Figure size 800x400 with 1 Axes>"
      ]
     },
     "metadata": {},
     "output_type": "display_data"
    }
   ],
   "source": [
    "plt.figure(figsize=(8, 4))\n",
    "\n",
    "sns.countplot(x=\"FuelType\", data=df_new, hue=\"Automatic\")\n",
    "\n",
    "plt.title(\"Distribution of Fuel Type\")\n",
    "plt.xlabel(\"Fuel Type\")\n",
    "plt.ylabel(\"Frequency\")\n",
    "\n",
    "plt.show()"
   ]
  },
  {
   "cell_type": "code",
   "execution_count": null,
   "id": "aef1c663-b072-4c3b-8154-6c03ebc0a531",
   "metadata": {},
   "outputs": [],
   "source": []
  }
 ],
 "metadata": {
  "kernelspec": {
   "display_name": "Python 3 (ipykernel)",
   "language": "python",
   "name": "python3"
  },
  "language_info": {
   "codemirror_mode": {
    "name": "ipython",
    "version": 3
   },
   "file_extension": ".py",
   "mimetype": "text/x-python",
   "name": "python",
   "nbconvert_exporter": "python",
   "pygments_lexer": "ipython3",
   "version": "3.12.5"
  }
 },
 "nbformat": 4,
 "nbformat_minor": 5
}
